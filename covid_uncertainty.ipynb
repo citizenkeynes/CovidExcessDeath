{
 "cells": [
  {
   "cell_type": "code",
   "execution_count": 1,
   "metadata": {},
   "outputs": [],
   "source": [
    "import matplotlib.pyplot as plt\n",
    "import numpy as np\n",
    "from fbprophet import *\n",
    "import pandas as pd\n",
    "from functools import reduce\n",
    "import pyspark.sql.functions as F  \n",
    "from pyspark.sql.functions import col  \n",
    "\n",
    "def get_mod():\n",
    "  m = Prophet(daily_seasonality=False,weekly_seasonality=False,mcmc_samples=1000,growth=\"linear\",n_changepoints=0)\n",
    "  m.add_seasonality(name=\"quarterly\",period=30*4,fourier_order=5)\n",
    "  return m "
   ]
  },
  {
   "cell_type": "code",
   "execution_count": 2,
   "metadata": {},
   "outputs": [],
   "source": [
    "#read csv files and union them together into a dtaaframe\n",
    "\n",
    "def get_df(c):\n",
    "  df = spark.read.format(\"csv\").option(\"header\",\"True\")\\\n",
    "  .load(\"/covid/data/output-data/historical-deaths/\"+c+\"_weekly_deaths.csv\")\n",
    "  return df\n",
    "\n",
    "alldf = {\n",
    "\"uk\":  get_df(\"britain\").filter(\"region='Britain'\").select(\"start_date\",\"total_deaths\",\"covid_deaths\"),\n",
    "\"ger\": get_df(\"germany\").select(\"start_date\",\"total_deaths\",\"covid_deaths\"),\n",
    "\"fr\":  get_df(\"france\").filter(\"region='France'\").select(\"start_date\",\"total_deaths\",\"covid_deaths\"),\n",
    "\"us\":  get_df(\"united_states\").groupBy(\"start_date\").agg(F.sum(col(\"total_deaths\")).alias(\"total_deaths\"),F.sum(col(\"covid_deaths\")).alias(\"covid_deaths\")),\n",
    "\"it\":  get_df(\"italy\").filter(\"region='Italy'\").groupBy(\"start_date\").agg(F.sum(col(\"total_deaths\")).alias(\"total_deaths\"),F.sum(col(\"covid_deaths\")).alias(\"covid_deaths\")),\n",
    "\"nl\":  get_df(\"netherlands\").filter(\"region='Netherlands'\").groupBy(\"start_date\").agg(F.sum(col(\"total_deaths\")).alias(\"total_deaths\"),F.sum(col(\"covid_deaths\")).alias(\"covid_deaths\"))\n",
    "}\n",
    "\n",
    "display(\n",
    "    reduce(lambda x,y: x.union(y),[v.withColumn(\"country\",F.lit(k)) for  (k,v)  in alldf.items()])\n",
    "    .select(\"country\",\"start_date\",\"total_deaths\").filter(\"rand()>0.3\")\n",
    " )"
   ]
  },
  {
   "cell_type": "code",
   "execution_count": 3,
   "metadata": {},
   "outputs": [],
   "source": [
    "\n",
    "def get_deltas(df):\n",
    "  missing = df.filter(\"start_date>'2020-02-01'\").count()\n",
    "  dfp = df.withColumn(\"ds\",col(\"start_date\")).withColumn(\"y\",col(\"total_deaths\")).toPandas()\n",
    "  dft = df.withColumn(\"ds\",col(\"start_date\")).withColumn(\"y\",col(\"total_deaths\")).filter(\"ds<'2020-01-01'\").toPandas()\n",
    "  m = get_mod()\n",
    "  m.fit(dft)\n",
    "  dfp = m.setup_dataframe(dfp)\n",
    "  yhat = m.sample_posterior_predictive(dfp)[\"yhat\"]\n",
    "  x = np.sum((np.array(dfp[\"y\"]).reshape((-1,1))-yhat)[-missing:,:],axis=0)\n",
    "  return x"
   ]
  },
  {
   "cell_type": "code",
   "execution_count": 4,
   "metadata": {},
   "outputs": [],
   "source": [
    "all_deltas = {k:get_deltas(alldf[k]) for (k,v) in alldf.items()}\n",
    "\n",
    "totaldeath = reduce(lambda x,y: x.union(y),[v.withColumn(\"country\",F.lit(k)) for  (k,v)  in alldf.items()]).groupBy(\"country\").agg(F.sum(\"covid_deaths\")).toPandas()\n",
    "\n",
    "totaldeath = {row[1][0]:row[1][1] for row in totaldeath.iterrows()}"
   ]
  },
  {
   "cell_type": "code",
   "execution_count": 5,
   "metadata": {},
   "outputs": [],
   "source": [
    "f,a = plt.subplots(6,1, figsize=(5,10))\n",
    "a = a.ravel()\n",
    "for country,ax in zip(all_deltas.keys(),a):\n",
    "    x = allhists[country]\n",
    "    ax.set_title(country)\n",
    "    ax.hist(x, 50,density=True,histtype=\"stepfilled\")\n",
    "    ax.set_xlim(0,100*1000)\n",
    "    ax.axvline(x=totaldeath[country], color='r', linestyle='dashed', linewidth=2)\n",
    "\n",
    "plt.tight_layout()\n",
    "\n",
    "display(ax)"
   ]
  },
  {
   "cell_type": "code",
   "execution_count": 6,
   "metadata": {},
   "outputs": [],
   "source": [
    "def get_forecasts(df):\n",
    "   dfp = df.withColumn(\"ds\",col(\"start_date\")).withColumn(\"y\",col(\"total_deaths\")).toPandas()\n",
    "   dft = df.withColumn(\"ds\",col(\"start_date\")).withColumn(\"y\",col(\"total_deaths\")).filter(\"ds<'2020-01-01'\").toPandas()\n",
    "   m = get_mod()\n",
    "   m.fit(dft)\n",
    "   yhat = m.sample_posterior_predictive(m.setup_dataframe(dfp))[\"yhat\"]\n",
    "\n",
    "   def extract(i):\n",
    "     forspark = pd.DataFrame(data=yhat[:,i])\n",
    "     forspark[\"ds\"] = dfp[\"ds\"]\n",
    "     forspark[\"bid\"] = [i for x in range(yhat.shape[0])]\n",
    "     forspark.columns = [\"pred\",\"ds\",\"bid\"]\n",
    "     return forspark\n",
    "   \n",
    "   output =extract(i)\n",
    "   output.columns = [\"pred\",\"ds\",\"bid\"]\n",
    "   \n",
    "   for d in range(1,yhat.shape[1]):\n",
    "     output  = pd.concat([output,get(d)], ignore_index=True)\n",
    "\n",
    "   return spark.createDataFrame(output), m.params"
   ]
  },
  {
   "cell_type": "code",
   "execution_count": 7,
   "metadata": {},
   "outputs": [],
   "source": [
    "display(getForc(alldf[\"ger\"])[0]\n",
    "       .join(alldf[\"ger\"].withColumn(\"ds\",col(\"start_date\"))\n",
    "       .withColumn(\"actual\",col(\"total_deaths\")),[\"ds\"],\"left\")\n",
    "       .filter(\"ds>'2017-01-01'\")   \n",
    "       .groupBy(\"start_date\").agg(F.avg(col(\"pred\")).alias(\"pred\"),F.avg(col(\"actual\")).alias(\"actual\"))\n",
    "       )"
   ]
  },
  {
   "cell_type": "code",
   "execution_count": 8,
   "metadata": {},
   "outputs": [],
   "source": []
  }
 ],
 "metadata": {
  "kernelspec": {
   "display_name": "Python 3",
   "language": "python",
   "name": "python3"
  },
  "language_info": {
   "codemirror_mode": {
    "name": "ipython",
    "version": 3
   },
   "file_extension": ".py",
   "mimetype": "text/x-python",
   "name": "python",
   "nbconvert_exporter": "python",
   "pygments_lexer": "ipython3",
   "version": "3.7.6"
  },
  "name": "get_economist_data",
  "notebookId": 2550288
 },
 "nbformat": 4,
 "nbformat_minor": 1
}
